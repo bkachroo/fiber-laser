{
 "cells": [
  {
   "cell_type": "markdown",
   "metadata": {},
   "source": [
    "# UFF Laser"
   ]
  },
  {
   "cell_type": "markdown",
   "metadata": {},
   "source": [
    "## What have I covered?\n",
    "- Tried various lengths and looked at the waveforms\n",
    "    - Found very finicky length dependence (at high power)\n",
    "    - Pulse width sensitive to both tightness and angle (different tightness had different optimal power for narrowest pulse width)\n",
    "- Discovered q-switching\n",
    "- Discovered relaxation oscillations\n",
    "- Found lower powers made sharper waveforms (also reduced little craps at the bottom (may be cw))\n",
    "- Made several new fibers with Ivan's help\n",
    "- Found very finicky connector (probably needs repolishing)\n",
    "- Had problems with spectra when modelocking\n",
    "    - Replaced fibers and made APC/APC and PC/PC to no effect\n",
    "    - Cut out the splitter entirely and finally saw proper spectrum\n",
    "- Tested photodiode output (was saturated)\n",
    "- Tested 980 output using spectrometer (may need to redo bc of splitter)\n",
    "- Waiting on filter\n",
    "- 980nm makes it easy to align the photodiode\n",
    "- Found that shifting the positions of the polarization controllers had an effect (may also be random)\n",
    "    - If so, suggests a double solution of minimum pulse width\n",
    "- Important note: found that upon finding modelocking position/tightness, could turn off the laser and turn on again, and after waiting a bit it resumed modelocking. This needs more testing to confirm.\n",
    "\n",
    "## To-Do\n",
    "- I would love to have a way to measure tightness and angle electronically\n",
    "- Could write a computer simulation of the optics\n",
    "    - Looks like two stable solutions, with critical points dependent on tightness/angle/power, where one is q-switching. Sometimes there is overlap, sometimes they are widely separated. \n",
    "- Should import the spectrum data, and oscilloscope data, instead of taking pictures. That way I could potentially FFT and autocorrelate on computer to check. I can also find numerical pulse width.\n",
    "- Double check whether splitter modifies the oscilloscope waveform.\n",
    "- Try flipping the outputs on the splitter from OSA to oscilloscope to see whether only one is bad.\n",
    "- Attach filter and get autocorrelation.\n"
   ]
  },
  {
   "cell_type": "markdown",
   "metadata": {},
   "source": [
    "## 2018-01-12\n",
    "Started with splicing in a meter of extra Erbium, and replacing a splice that turned out to be bad.\n",
    "Found much higher output power (15 mW):\n",
    "<img width=\"500\" height=\"250\" src=\"IMG_0056.jpg\"/>\n",
    "Also found unstable wide pulses:\n",
    "<video controls width=\"500\" height=\"250\" src=\"IMG_0057.mov\" />"
   ]
  },
  {
   "cell_type": "markdown",
   "metadata": {},
   "source": [
    "## 2018-01-17\n",
    "Teaching Ivan to connectorize, polished the short 20 cm fiber. Tried different length, 56.7cm (shorter). Now there are taller stable pulses:\n",
    "<video controls width=\"500\" height=\"250\" src=\"IMG_0059.mov\" />\n",
    "Here's the spectrum:\n",
    "<img width=\"500\" height=\"250\" src=\"IMG_0060.jpg\"/>\n",
    "Can make the pulses even taller, then they start getting weird:\n",
    "<video controls width=\"500\" height=\"250\" src=\"IMG_0061.mov\" />\n"
   ]
  },
  {
   "cell_type": "markdown",
   "metadata": {},
   "source": [
    "## 2018-01-19\n",
    "Tried several lengths, 54.7cm no good, even less stable. Anything below that is worse. Tried 59.3cm also no good. Now to 56.1cm. More polishing.\n",
    "Slight adjustment and it goes crazy:\n",
    "<video controls width=\"500\" height=\"250\" src=\"IMG_0063.mov\" />\n"
   ]
  },
  {
   "cell_type": "markdown",
   "metadata": {},
   "source": [
    "Here it's getting cleaner:\n",
    "<video width=\"500\" height=\"250\" controls src=\"IMG_0066.mov\" ></video>\n",
    "\n",
    "Talked to Prof, and it looks like the crazyness is q-switching, which is not what we want. \n",
    "We want the regular oscillations to be sharp already, which means different dispersion. He suggests we are pumping too hard."
   ]
  },
  {
   "cell_type": "markdown",
   "metadata": {},
   "source": [
    "## 2018-01-23\n",
    "Trying 56.7cm again. Noticed that adjusting the polarization controller position seemed to have an effect, so I'm trying that.\n",
    "MODELOCKING? This is trying lower power:\n",
    "<video controls width=\"500\" height=\"250\" src=\"IMG_0067.mov\"> </video>\n",
    "\n",
    "Checking the larger time scales to make sure it's stable:\n",
    "\n",
    "<video controls width=\"500\" height=\"250\" src=\"IMG_0068 2.mov\" ></video>\n",
    "\n",
    "But the spectrum is not what we would expect of modelocking. Is the OSA working?\n",
    "<img width=\"500\" height=\"250\" src=\"IMG_0073.jpg\">"
   ]
  },
  {
   "cell_type": "markdown",
   "metadata": {},
   "source": [
    "## 2018-01-26\n",
    "We're trying again today, at even lower power (500 mA). We've got beautiful pulses:\n",
    "<video width=\"500\" height=\"250\" controls src=\"IMG_0076.mov\"></video>\n",
    "\n",
    "And they're stable:\n",
    "<video width=\"500\" height=\"250\" controls src=\"IMG_0077.mov\"></video>\n",
    "\n",
    "But the spectrum is insanity:\n",
    "<img width=\"500\" height=\"250\" src=\"IMG_0079.jpg\">\n",
    "<img width=\"500\" height=\"250\" src=\"IMG_0080.jpg\">\n",
    "<img width=\"500\" height=\"250\" src=\"IMG_0081.jpg\">\n",
    "<img width=\"500\" height=\"250\" src=\"IMG_0082.jpg\">\n",
    "\n",
    "Talked to Prof, he suggested there's a contact issue between connectors. Cleaned all the connectors, and repolished several. Some were really bad. Then made sure all the connections were APC/APC and PC/PC. Tried again. No good, such frustration:\n",
    "<img width=\"500\" height=\"250\" src=\"IMG_0085.jpg\">\n",
    "Decided to check photodiode instead, but it's saturated at 9V! What's happening? Probably the 980nm output. Let's measure:"
   ]
  },
  {
   "cell_type": "markdown",
   "metadata": {},
   "source": [
    "## Pump input vs Photodiode output data\n",
    "### (Likely 980nm interference)"
   ]
  },
  {
   "cell_type": "code",
   "execution_count": 3,
   "metadata": {},
   "outputs": [
    {
     "data": {
      "image/png": "[encoded data removed]",
      "text/plain": [
       "<matplotlib.figure.Figure at 0x10d845c88>"
      ]
     },
     "metadata": {},
     "output_type": "display_data"
    }
   ],
   "source": [
    "import numpy as np\n",
    "import matplotlib.pyplot as plt\n",
    "\n",
    "pump_input = np.array([0, 4.9, 7.5, 8.9, 10.0, 10.3, 10.7, 11.0, 11.1, 11.4, 11.6, 12.0, 13.3]) # mA+-0.1\n",
    "diode_output = -1*np.array([0.015, -0.18, -0.410, -0.725, -1.77, -2.36, -4.07, -6.5, \n",
    "                            -7.3, -8.73, -8.74, -8.74, -8.74]) # V\n",
    "plt.figure(1)\n",
    "plt.plot(pump_input, diode_output, 'o')\n",
    "plt.plot(pump_input, diode_output, '-')\n",
    "plt.xlabel('Pump Input (mA)')\n",
    "plt.ylabel('Diode output (V)')\n",
    "plt.title('Diode output vs. Pump Input')\n",
    "plt.show()"
   ]
  },
  {
   "cell_type": "markdown",
   "metadata": {},
   "source": [
    "The diode is saturating at 11 mA, when our typical input power is 500 mA for modelocking. I tested higher powers, to see if lasing would reduce 980nm, but the photodiode remains saturated.\n",
    "\n",
    "The question is then, how much light is actually 1550nm?\n",
    "\n",
    "## 1550 nm and 980 nm peaks vs. Input Power\n",
    "\n",
    "The next test is to find the relative amount of 980nm vs. 1550 nm light in the output. This is done with a spectrum analyzer, measuring the height of the peaks at each wavelength in dB."
   ]
  },
  {
   "cell_type": "code",
   "execution_count": 2,
   "metadata": {},
   "outputs": [
    {
     "data": {
      "image/png": "[encoded data removed]",
      "text/plain": [
       "<matplotlib.figure.Figure at 0x10ecc1e48>"
      ]
     },
     "metadata": {},
     "output_type": "display_data"
    },
    {
     "name": "stderr",
     "output_type": "stream",
     "text": [
      "No handles with labels found to put in legend.\n"
     ]
    },
    {
     "data": {
      "image/png": "[encoded data removed]",
      "text/plain": [
       "<matplotlib.figure.Figure at 0x10ecac4a8>"
      ]
     },
     "metadata": {},
     "output_type": "display_data"
    }
   ],
   "source": [
    "# because I don't know how to measure amplitude accurately on the Spectrum Analyzer, I will round to the nearest dB\n",
    "\n",
    "pump_input = np.array([ 10, 15.1, 16.2, 17.6, 20.1, \n",
    "                       30.8, 30.8, 40.3, 100.8, 200.3, \n",
    "                       300.1, 400.5, 499.8, 599.8, 650.8, \n",
    "                       300.6, 400.5, 200.2, 500.6, 200.8,\n",
    "                       99.4, 300.9, 350.4]) # mA +- 0.1\n",
    "peak_height_980 = np.array([np.nan, np.nan, -49, -50, -48, \n",
    "                            -48, -48, -47, -44, -42, \n",
    "                            -41, -34, -33.5, -34, -32, \n",
    "                            -38, -36, -36, -39, -40, \n",
    "                            -43, -38, -38]) # dB +- 1 dB\n",
    "peak_height_1550 = np.array([np.nan, np.nan, np.nan, -43, -38, \n",
    "                             -34, -34, -33, -31, -30, \n",
    "                             -29, -28, -27, -27, -27, \n",
    "                             -28, -28, -30, -28, -30, \n",
    "                             -32, -29, -29]) # dB, note there is significant variance\n",
    "# in dB over time, randomly about a mean, maybe +- 1 dB\n",
    "\n",
    "# note: at 599.8 mA, the power at 980nm actually goes down. More absorption by \n",
    "# lasing, maybe?\n",
    "\n",
    "# plot dB magnitude against pump\n",
    "\n",
    "plt.figure(1)\n",
    "plt.plot(pump_input, peak_height_980, 'o', label='980nm')\n",
    "plt.plot(pump_input, peak_height_1550, 'x', label = '1550nm')\n",
    "plt.xlabel('Pump Input (mA)')\n",
    "plt.ylabel('Peak Height (dB)')\n",
    "plt.title('Peaks vs. Pump Input')\n",
    "plt.legend(loc=4)\n",
    "plt.show()\n",
    "\n",
    "# convert data to relative share of power\n",
    "dB_difference = peak_height_980 - peak_height_1550\n",
    "percent_980 = 10**(dB_difference/10) # convert dB difference in to %980\n",
    "# of 1550 power\n",
    "share_1550 = 1/(1+percent_980) # get relative share\n",
    "share_980 = percent_980/(1+percent_980)\n",
    "\n",
    "\n",
    "# plot power share against pump\n",
    "\n",
    "plt.figure(2)\n",
    "plt.plot(pump_input, 100*share_980, '.')\n",
    "plt.xlabel('Pump Input (mA)')\n",
    "plt.ylabel('Percentage of power at 980nm')\n",
    "plt.title('Percent 980 vs. Pump Input')\n",
    "plt.legend(loc=4)\n",
    "plt.show()\n",
    "\n"
   ]
  },
  {
   "cell_type": "markdown",
   "metadata": {},
   "source": [
    "## 2018-01-30\n",
    "The 980nm is potentially a safety problem, so I talked to Prof. Bailey at suggestion of Prof. Marjoribanks about using another detector to measure it, but the one we have is in use and we don't want to disturb that experiment.\n",
    "Tried using a different sensor, but it's thermal and doesn't discriminate.\n",
    "\n",
    "Prof suggested skipping the splitter and going direct from laser to OSA. Tried it cw:\n",
    "<img width=\"500\" height=\"250\" src=\"IMG_0090.jpg\">\n",
    "This is very different. No idea why it's so dirty. This is at high power of course.\n",
    "\n",
    "Next tried modelocked:\n",
    "<img width=\"500\" height=\"250\" src=\"IMG_0116.jpg\">\n",
    "\n",
    "Here's the spectrum:\n",
    "<img width=\"500\" height=\"250\" src=\"IMG_0117.jpg\">\n",
    "\n",
    "When I increase pump power:\n",
    "<img width=\"500\" height=\"250\" src=\"IMG_0118.jpg\">\n",
    "\n",
    "So there's clearly a threshold beyond which pump power doesn't help. Also found, at lower power (250 mA), relaxation oscillations, related to q-switching:\n",
    "<video width=\"500\" height=\"250\" controls src=\"IMG_0093.mov\"> </video>"
   ]
  },
  {
   "cell_type": "markdown",
   "metadata": {},
   "source": []
  },
  {
   "cell_type": "code",
   "execution_count": null,
   "metadata": {},
   "outputs": [],
   "source": []
  }
 ],
 "metadata": {
  "kernelspec": {
   "display_name": "Python 3",
   "language": "python",
   "name": "python3"
  },
  "language_info": {
   "codemirror_mode": {
    "name": "ipython",
    "version": 3
   },
   "file_extension": ".py",
   "mimetype": "text/x-python",
   "name": "python",
   "nbconvert_exporter": "python",
   "pygments_lexer": "ipython3",
   "version": "3.5.4"
  }
 },
 "nbformat": 4,
 "nbformat_minor": 2
}
