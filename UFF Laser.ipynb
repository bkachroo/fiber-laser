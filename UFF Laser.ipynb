{
 "cells": [
  {
   "cell_type": "markdown",
   "metadata": {},
   "source": [
    "# UFF Laser"
   ]
  },
  {
   "cell_type": "markdown",
   "metadata": {},
   "source": [
    "## What have I covered?\n",
    "- Tried various lengths and looked at the waveforms\n",
    "    - Found very finicky length dependence (at high power)\n",
    "    - Pulse width sensitive to both tightness and angle (different tightness had different optimal power for narrowest pulse width)\n",
    "- Discovered q-switching\n",
    "- Discovered relaxation oscillations\n",
    "- Found lower powers made sharper waveforms (also reduced little craps at the bottom (may be cw))\n",
    "- Made several new fibers with Ivan's help\n",
    "- Found very finicky connector (probably needs repolishing)\n",
    "- Had problems with spectra when modelocking\n",
    "    - Replaced fibers and made APC/APC and PC/PC to no effect\n",
    "    - Cut out the splitter entirely and finally saw proper spectrum\n",
    "- Tested photodiode output (was saturated)\n",
    "- Tested 980 output using spectrometer (may need to redo bc of splitter)\n",
    "- Waiting on filter\n",
    "- 980nm makes it easy to align the photodiode\n",
    "- Found that shifting the positions of the polarization controllers had an effect (may also be random)\n",
    "    - If so, suggests a double solution of minimum pulse width\n",
    "- Important note: found that upon finding modelocking position/tightness, could turn off the laser and turn on again, and after waiting a bit it resumed modelocking. This needs more testing to confirm.\n",
    "\n",
    "## To-Do\n",
    "- I would love to have a way to measure tightness and angle electronically\n",
    "- Could write a computer simulation of the optics\n",
    "    - Looks like three stable solutions, with critical points dependent on tightness/angle/power, where one is q-switching, one is modelocked, one is cw. Sometimes there is overlap, sometimes they are widely separated. \n",
    "- Should import the spectrum data, and oscilloscope data, instead of taking pictures. That way I could potentially FFT and autocorrelate on computer to check. I can also find numerical pulse width.\n",
    "- Double check whether splitter modifies the oscilloscope waveform.\n",
    "- Try flipping the outputs on the splitter from OSA to oscilloscope to see whether only one is bad.\n",
    "- Attach filter and get autocorrelation.\n"
   ]
  },
  {
   "cell_type": "markdown",
   "metadata": {},
   "source": [
    "## 2018-01-12\n",
    "Started with splicing in a meter of extra Erbium, and replacing a splice that turned out to be bad.\n",
    "Found much higher output power (15 mW):\n",
    "<img width=\"500\" height=\"250\" src=\"IMG_0056.jpg\"/>\n",
    "Also found unstable wide pulses:\n",
    "<video controls width=\"500\" height=\"250\" src=\"IMG_0057.mov\" />"
   ]
  },
  {
   "cell_type": "markdown",
   "metadata": {},
   "source": [
    "## 2018-01-17\n",
    "Teaching Ivan to connectorize, polished the short 20 cm fiber. Tried different length, 56.7cm (shorter). Now there are taller stable pulses:\n",
    "<video controls width=\"500\" height=\"250\" src=\"IMG_0059.mov\" />\n",
    "Here's the spectrum:\n",
    "<img width=\"500\" height=\"250\" src=\"IMG_0060.jpg\"/>\n",
    "Can make the pulses even taller, then they start getting weird:\n",
    "<video controls width=\"500\" height=\"250\" src=\"IMG_0061.mov\" />\n"
   ]
  },
  {
   "cell_type": "markdown",
   "metadata": {},
   "source": [
    "## 2018-01-19\n",
    "Tried several lengths, 54.7cm no good, even less stable. Anything below that is worse. Tried 59.3cm also no good. Now to 56.1cm. More polishing.\n",
    "Slight adjustment and it goes crazy:\n",
    "<video controls width=\"500\" height=\"250\" src=\"IMG_0063.mov\" />\n"
   ]
  },
  {
   "cell_type": "markdown",
   "metadata": {},
   "source": [
    "Here it's getting cleaner:\n",
    "<video width=\"500\" height=\"250\" controls src=\"IMG_0066.mov\" ></video>\n",
    "\n",
    "Talked to Prof, and it looks like the crazyness is q-switching, which is not what we want. \n",
    "We want the regular oscillations to be sharp already, which means different dispersion. He suggests we are pumping too hard."
   ]
  },
  {
   "cell_type": "markdown",
   "metadata": {},
   "source": [
    "## 2018-01-23\n",
    "Trying 56.7cm again. Noticed that adjusting the polarization controller position seemed to have an effect, so I'm trying that.\n",
    "MODELOCKING? This is trying lower power:\n",
    "<video controls width=\"500\" height=\"250\" src=\"IMG_0067.mov\"> </video>\n",
    "\n",
    "Checking the larger time scales to make sure it's stable:\n",
    "\n",
    "<video controls width=\"500\" height=\"250\" src=\"IMG_0068 2.mov\" ></video>\n",
    "\n",
    "But the spectrum is not what we would expect of modelocking. Is the OSA working?\n",
    "<img width=\"500\" height=\"250\" src=\"IMG_0073.jpg\">"
   ]
  },
  {
   "cell_type": "markdown",
   "metadata": {},
   "source": [
    "## 2018-01-26\n",
    "We're trying again today, at even lower power (500 mA). We've got beautiful pulses:\n",
    "<video width=\"500\" height=\"250\" controls src=\"IMG_0076.mov\"></video>\n",
    "\n",
    "And they're stable:\n",
    "<video width=\"500\" height=\"250\" controls src=\"IMG_0077.mov\"></video>\n",
    "\n",
    "But the spectrum is insanity:\n",
    "<img width=\"500\" height=\"250\" src=\"IMG_0079.jpg\">\n",
    "<img width=\"500\" height=\"250\" src=\"IMG_0080.jpg\">\n",
    "<img width=\"500\" height=\"250\" src=\"IMG_0081.jpg\">\n",
    "<img width=\"500\" height=\"250\" src=\"IMG_0082.jpg\">\n",
    "\n",
    "Talked to Prof, he suggested there's a contact issue between connectors. Cleaned all the connectors, and repolished several. Some were really bad. Then made sure all the connections were APC/APC and PC/PC. Tried again. No good, such frustration:\n",
    "<img width=\"500\" height=\"250\" src=\"IMG_0085.jpg\">\n",
    "Decided to check photodiode instead, but it's saturated at 9V! What's happening? Probably the 980nm output. Let's measure:"
   ]
  },
  {
   "cell_type": "markdown",
   "metadata": {},
   "source": [
    "## Pump input vs Photodiode output data\n",
    "### (Likely 980nm interference)"
   ]
  },
  {
   "cell_type": "code",
   "execution_count": 3,
   "metadata": {},
   "outputs": [
    {
     "data": {
      "image/png": "[encoded data removed]",
      "text/plain": [
       "<matplotlib.figure.Figure at 0x10d845c88>"
      ]
     },
     "metadata": {},
     "output_type": "display_data"
    }
   ],
   "source": [
    "import numpy as np\n",
    "import matplotlib.pyplot as plt\n",
    "\n",
    "pump_input = np.array([0, 4.9, 7.5, 8.9, 10.0, 10.3, 10.7, 11.0, 11.1, 11.4, 11.6, 12.0, 13.3]) # mA+-0.1\n",
    "diode_output = -1*np.array([0.015, -0.18, -0.410, -0.725, -1.77, -2.36, -4.07, -6.5, \n",
    "                            -7.3, -8.73, -8.74, -8.74, -8.74]) # V\n",
    "plt.figure(1)\n",
    "plt.plot(pump_input, diode_output, 'o')\n",
    "plt.plot(pump_input, diode_output, '-')\n",
    "plt.xlabel('Pump Input (mA)')\n",
    "plt.ylabel('Diode output (V)')\n",
    "plt.title('Diode output vs. Pump Input')\n",
    "plt.show()"
   ]
  },
  {
   "cell_type": "markdown",
   "metadata": {},
   "source": [
    "The diode is saturating at 11 mA, when our typical input power is 500 mA for modelocking. I tested higher powers, to see if lasing would reduce 980nm, but the photodiode remains saturated.\n",
    "\n",
    "The question is then, how much light is actually 1550nm?\n",
    "\n",
    "## 1550 nm and 980 nm peaks vs. Input Power\n",
    "\n",
    "The next test is to find the relative amount of 980nm vs. 1550 nm light in the output. This is done with a spectrum analyzer, measuring the height of the peaks at each wavelength in dB."
   ]
  },
  {
   "cell_type": "code",
   "execution_count": 2,
   "metadata": {},
   "outputs": [
    {
     "data": {
      "image/png": "[encoded data removed]",
      "text/plain": [
       "<matplotlib.figure.Figure at 0x10ecc1e48>"
      ]
     },
     "metadata": {},
     "output_type": "display_data"
    },
    {
     "name": "stderr",
     "output_type": "stream",
     "text": [
      "No handles with labels found to put in legend.\n"
     ]
    },
    {
     "data": {
      "image/png": "[encoded data removed]",
      "text/plain": [
       "<matplotlib.figure.Figure at 0x10ecac4a8>"
      ]
     },
     "metadata": {},
     "output_type": "display_data"
    }
   ],
   "source": [
    "# because I don't know how to measure amplitude accurately on the Spectrum Analyzer, I will round to the nearest dB\n",
    "\n",
    "pump_input = np.array([ 10, 15.1, 16.2, 17.6, 20.1, \n",
    "                       30.8, 30.8, 40.3, 100.8, 200.3, \n",
    "                       300.1, 400.5, 499.8, 599.8, 650.8, \n",
    "                       300.6, 400.5, 200.2, 500.6, 200.8,\n",
    "                       99.4, 300.9, 350.4]) # mA +- 0.1\n",
    "peak_height_980 = np.array([np.nan, np.nan, -49, -50, -48, \n",
    "                            -48, -48, -47, -44, -42, \n",
    "                            -41, -34, -33.5, -34, -32, \n",
    "                            -38, -36, -36, -39, -40, \n",
    "                            -43, -38, -38]) # dB +- 1 dB\n",
    "peak_height_1550 = np.array([np.nan, np.nan, np.nan, -43, -38, \n",
    "                             -34, -34, -33, -31, -30, \n",
    "                             -29, -28, -27, -27, -27, \n",
    "                             -28, -28, -30, -28, -30, \n",
    "                             -32, -29, -29]) # dB, note there is significant variance\n",
    "# in dB over time, randomly about a mean, maybe +- 1 dB\n",
    "\n",
    "# note: at 599.8 mA, the power at 980nm actually goes down. More absorption by \n",
    "# lasing, maybe?\n",
    "\n",
    "# plot dB magnitude against pump\n",
    "\n",
    "plt.figure(1)\n",
    "plt.plot(pump_input, peak_height_980, 'o', label='980nm')\n",
    "plt.plot(pump_input, peak_height_1550, 'x', label = '1550nm')\n",
    "plt.xlabel('Pump Input (mA)')\n",
    "plt.ylabel('Peak Height (dB)')\n",
    "plt.title('Peaks vs. Pump Input')\n",
    "plt.legend(loc=4)\n",
    "plt.show()\n",
    "\n",
    "# convert data to relative share of power\n",
    "dB_difference = peak_height_980 - peak_height_1550\n",
    "percent_980 = 10**(dB_difference/10) # convert dB difference in to %980\n",
    "# of 1550 power\n",
    "share_1550 = 1/(1+percent_980) # get relative share\n",
    "share_980 = percent_980/(1+percent_980)\n",
    "\n",
    "\n",
    "# plot power share against pump\n",
    "\n",
    "plt.figure(2)\n",
    "plt.plot(pump_input, 100*share_980, '.')\n",
    "plt.xlabel('Pump Input (mA)')\n",
    "plt.ylabel('Percentage of power at 980nm')\n",
    "plt.title('Percent 980 vs. Pump Input')\n",
    "plt.legend(loc=4)\n",
    "plt.show()\n",
    "\n"
   ]
  },
  {
   "cell_type": "markdown",
   "metadata": {},
   "source": [
    "## 2018-01-30\n",
    "The 980nm is potentially a safety problem, so I talked to Prof. Bailey at suggestion of Prof. Marjoribanks about using another detector to measure it, but the one we have is in use and we don't want to disturb that experiment.\n",
    "Tried using a different sensor, but it's thermal and doesn't discriminate.\n",
    "\n",
    "Prof suggested skipping the splitter and going direct from laser to OSA. Tried it cw:\n",
    "<img width=\"500\" height=\"250\" src=\"IMG_0090.jpg\">\n",
    "This is very different. No idea why it's so dirty. This is at high power of course.\n",
    "\n",
    "Next tried modelocked:\n",
    "<img width=\"500\" height=\"250\" src=\"IMG_0116.jpg\">\n",
    "\n",
    "Here's the spectrum:\n",
    "<img width=\"500\" height=\"250\" src=\"IMG_0117.jpg\">\n",
    "\n",
    "When I increase pump power:\n",
    "<img width=\"500\" height=\"250\" src=\"IMG_0118.jpg\">\n",
    "\n",
    "So there's clearly a threshold beyond which pump power doesn't help. Also found, at lower power (250 mA), relaxation oscillations, related to q-switching:\n",
    "<video width=\"500\" height=\"250\" controls src=\"IMG_0093.mov\"> </video>"
   ]
  },
  {
   "cell_type": "markdown",
   "metadata": {},
   "source": [
    "## 2018-02-02\n",
    "Thought about the phenomena. I'm taking a nonlinear course, and it looks like there are three fixed points, which undergo bifurcations as the parameters of pump power, tightness, and angle are varied. Because we can get unsteady oscillations like unstable q-switching, I think this is at least a second-order system.\n",
    "\n",
    "Found the laser much more difficult to modelock for some reason. Nothing should have changed, but today we had a very hard time with it, lots of q-switching but not so much modelocking. \n",
    "\n",
    "Also tried the filter. We found it filtered out the vast majority of the light, but as power was increased to 600 mA there was some increase in photodiode signal at cw (from 50 to 500 mV), but not much.\n",
    "\n",
    "Anyways, we modelocked finally and shone the light through the filter, and voila! 4.17 V, as opposed to 150 mV at cw. We also tried running a q-switching pulse through photodiode, and saw no difference from cw! Not sure why."
   ]
  },
  {
   "cell_type": "markdown",
   "metadata": {},
   "source": [
    "## 2018-02-08\n",
    "\n",
    "Based on the 2018-01-30 data, the FWHM is 12 ns. I remember discussing how the pulses were actually faster and the oscilloscope couldn't track them, but it's unclear to me how that would result in wider pulses on the scope.\n",
    "\n",
    "Using the RP Photonics Encyclopedia Gaussian pulse:\n",
    "$$ P(t) \\approx P_p \\text{exp}\\left[-2.77 \\left(\\frac {t} {\\tau_p} \\right)^2 \\right] $$\n",
    "\n",
    "Then the relationship between FWHM duration $\\tau_p$ and FWHM bandwidth (in Hz):\n",
    "$$ \\Delta \\nu \\approx \\frac {0.44} {\\tau_p} $$\n",
    "\n",
    "$$ \\Delta \\nu = \\frac c {\\lambda^2} \\Delta \\lambda $$\n",
    "\n",
    "Again based on the 2018-01-30 data, the FWHM bandwidth is 36.7 MHz, at 1550 nm that gives 294 fm which is obviously wrong. Using the spectrum data instead: I don't know if the scale on the OSA is absolute or dB. The markings on the y-axis seem absolute. If absolute then the FWHM is about 73 nm. Then the duration would be 48 fs. This is also unlikely, but in a better ballpark. If we ignore the extra features in the spectrum and focus on the middle curve, the FWHM is about 33 nm. That gives 107 fs, which is almost on the dot what we expect. Not that any of those calculations are trustworthy, but it suggests we're probably in the same ballpark.\n",
    "\n",
    "Using 100 fs as FWHM then, and about 43 ns between pulses. Note that:\n",
    "\n",
    "$$ P_p \\approx 0.94 \\frac E {\\tau_p} $$\n",
    "\n",
    "And:\n",
    "\n",
    "$$ P_{avg} = \\frac E {\\Delta t} $$\n",
    "\n",
    "where $\\Delta t$ is the time between pulses, and $E$ is the total energy. I want the relationship between $P_{avg}$ and $P_p$, which is \n",
    "\n",
    "$$ P_p \\approx 0.94 \\frac {\\Delta t} {\\tau_p} P_{avg}. $$\n",
    "\n",
    "So for our pulse width and delay that's $P_p \\approx 4\\times 10^5 P_{avg}$. Since the photodiode signal scales with intensity squared, we should get about $10^{10}$ times the signal. Since the data from 2018-02-02 has 4.17 V against 150 mV cw, or 28 times the signal, it's extremely unlikely the photodiode is picking up any sort of cw. Much more likely that this is leftover 980nm light that got through the filter, since the photodiode is extremely sensitive to 980nm, as seen in the data showing it saturating at 11 mA of input power, 8-10 dB below the power put through the filter for the 2018-02-02 experiment, and it reaches 0.15 V at much lower power (beyond measuring capacity). It depends on how much the filter cuts out. We can measure the filter's cut out approximately using the EXFO.\n"
   ]
  },
  {
   "cell_type": "markdown",
   "metadata": {},
   "source": [
    "## 2018-02-16\n",
    "\n",
    "Based on emails with Prof, it looks like there's an issue with the calculations from 2018-02-08. Rather than debugging that, I would rather try a measurement with the autocorrelator. I think that would be more informative.\n",
    "\n",
    "Plan for today:\n",
    "- Align the a/c\n",
    "- Modelock the laser\n",
    "- Do an a/c measurement\n",
    "- If possible, measure the filter's attenuation of 980"
   ]
  },
  {
   "cell_type": "markdown",
   "metadata": {},
   "source": [
    "### Align a/c\n",
    "Using this guide from photonics website:\n",
    "\n",
    "The ON switches\n",
    "- use the oscilloscope with AUTO trigger, and a fast timebase of about 10 µs/division to see the signal from the photodiode during initial adjustments\n",
    "- connect the two 9V batteries to the amplified photodiode\n",
    "\n",
    "Initial setup when building (should not be necessary)\n",
    "- use the IR card and dim room-lighting to see where the beams travel\n",
    "- put the beam through the middle of the beam-splitter, and travelling quite level through to the flat mirror (use a ruler, and tape the card to it)\n",
    "- the beam should be level also to the corner-cube retroreflector; it should hit the dead centre of the corner cube -- this is important in getting good fringes later\n",
    "- the beam should hit the centre of the lens -- if it does not,, and there is no signal whatsoever from either arm, you may have to reposition the detector. For that, you may have to remove the black infrared-pass filter to see the lens\n",
    "\n",
    "Minor alignment (you may need to)\n",
    "- set the micrometer on the translation stage to the position for the two arms to be the same length (in March 2003, this was a setting of 12.45mm)\n",
    "- run the waveform generator to drive the speaker with a range of about 1 mm\n",
    "- block the arm with the flat mirror, so you see only the signal from the retroreflector, which cannot be adjusted\n",
    "- run the oscilloscope on auto-trigger and a 1 ms or faster timebase\n",
    "- using a small Allen key to make fine adjustments to the 45° flat mirror, maximize the signal on the oscilloscope (~50 mV is good)\n",
    "- unblock the flat-mirror arm, and use the IR card and dim room-lighting to see that the two beams overlap; use the small Allen key to adjust the end mirror in that arm to bring the two to overlap on the card\n",
    "- block the corner-cube arm, and again make fine adjustments to maximize the signal, this time from the second arm\n",
    "- put the oscilloscope time-base on 10 ms/div, and trigger it from the synch (TTL) pulse of the generator\n",
    "- unblock both arms; you may immediately see signal with fringes, or you may have to make very fine (less than 1/16th of a rotation) adjustments of the mirror in the second arm until you do\n",
    "- if the multiple signals you see (from corner cube inward, turning and going outward) are not evenly spaced, adjust the translation stage micrometer slightly (less than 100 µm) so that the laser pulse hits the corner cube as it passes the middle of its oscillation range. You may have to touch up the alignment again.\n",
    "\n",
    "A nice feature of the interferometric autocorrelator is that the fringes calibrate the device for you!"
   ]
  },
  {
   "cell_type": "markdown",
   "metadata": {},
   "source": [
    "Also the model number for the filter is: FEL1200"
   ]
  },
  {
   "cell_type": "markdown",
   "metadata": {},
   "source": [
    "Measuring heights of mirror centres from metal base using ruler:\n",
    "- second flat: 10.7 cm\n",
    "- retroreflector: 10.7 cm\n",
    "- first flat: 10.7 cm\n",
    "- fiber input: 10.4 cm\n",
    "- beam splitter: 10.9 cm\n",
    "Changed heights, used card to get beams together. Found that as beams left the splitter they diverge, so they aren't parallel, need to go back and change gross alignment."
   ]
  },
  {
   "cell_type": "markdown",
   "metadata": {},
   "source": [
    "Prof came in, talked about 980 in output as a safety issue, has to be resolved first. Need some kind of detector that can discriminate, like a silicon one."
   ]
  },
  {
   "cell_type": "markdown",
   "metadata": {},
   "source": [
    "Prof talked to Larry, turns out they do have another photodiode. So now I'll use this one to see 980nm. The tests:\n",
    "- With/without modelocking\n",
    "- With/without filter\n",
    "\n",
    "Take power at a variety of input current levels. That's four different curves."
   ]
  },
  {
   "cell_type": "markdown",
   "metadata": {},
   "source": [
    "Power meter is a Thor Lab S121C.\n",
    "If I point it up I see 70 uW, but if I point it down I see 1 uW, which is good enough.\n",
    "We're getting between 13 and 18 uW as our base level of noise. Turned off the lights, very effective, down to 0.01 uW.\n"
   ]
  },
  {
   "cell_type": "markdown",
   "metadata": {},
   "source": [
    "### Taking data for No Filter, No modelocking"
   ]
  },
  {
   "cell_type": "code",
   "execution_count": 10,
   "metadata": {},
   "outputs": [
    {
     "data": {
      "image/png": "[encoded data removed]",
      "text/plain": [
       "<matplotlib.figure.Figure at 0x1116bee48>"
      ]
     },
     "metadata": {},
     "output_type": "display_data"
    }
   ],
   "source": [
    "current = [51.0,\n",
    "          98.9, 149.1, 201.9, 302.2, 388.3, \n",
    "           494.3, 609.1, 648.6, 655.2, 266.0, \n",
    "          521.0, 532.3, 569.5, 1.2, 3.7, 6.4, 12.0, 9.1] # mA\n",
    "power = [0.545,\n",
    "        1.162, 1.78, 2.39, 3.48, 4.45, \n",
    "         5.28, 6.22, 6.29, 6.32, 3.08, \n",
    "        5.47, 5.57, 5.95, 0.00002, 0.00005, 0.00012, 0.0076, 0.0090] # mW\n",
    "\n",
    "import matplotlib.pyplot as plt\n",
    "\n",
    "plt.plot(current, power, '.')\n",
    "plt.xlabel('Current (mA)')\n",
    "plt.ylabel('980nm Power (mW)')\n",
    "plt.title('980 power -Filter -Modelock')\n",
    "plt.show()"
   ]
  },
  {
   "cell_type": "markdown",
   "metadata": {},
   "source": [
    "It's pretty much a straight line."
   ]
  },
  {
   "cell_type": "markdown",
   "metadata": {},
   "source": [
    "As a comparison, I want to take power in EXFO as well. First though, Filter No Modelocking.\n",
    "### Data for +Filter -Modelocking"
   ]
  },
  {
   "cell_type": "code",
   "execution_count": 11,
   "metadata": {},
   "outputs": [
    {
     "data": {
      "image/png": "[encoded data removed]",
      "text/plain": [
       "<matplotlib.figure.Figure at 0x1117ea320>"
      ]
     },
     "metadata": {},
     "output_type": "display_data"
    }
   ],
   "source": [
    "current = [0, 1.5, 74.1, 10.4, 23.9, \n",
    "           95.3, 151.4, 197.3, 263.3, 309.4, \n",
    "           354.8, 402.6, 455.0, 504.2, 554.0, 600.3, 655.1] # mA\n",
    "power = [0.00, 0, 0.33, 0, 0.07, \n",
    "         0.44, 0.72, 0.93, 1.22, 1.42, \n",
    "         1.63, 1.84, 2.01, 2.14, 2.32, 2.46, 2.52] # uW\n",
    "\n",
    "plt.plot(current, power, '.')\n",
    "plt.xlabel('Current (mA)')\n",
    "plt.ylabel('980nm Power (uW)')\n",
    "plt.title('980 power +Filter -Modelock')\n",
    "plt.show()"
   ]
  },
  {
   "cell_type": "markdown",
   "metadata": {},
   "source": [
    "The line is almost the same but in uW, so the reduction is really steep. Also note: at operating power 200 mA we have output of 0.93 uW from filter, which is less than the output without the filter at 9.1 mA, but more than 6.4 mA, which is the same range for which we would expect a signal below 1 V on the a/c photodiode. This is more evidence to suggest our cw signal on photodiode is leakage from filter. Factor of reduction is something like 0.04% of original."
   ]
  },
  {
   "cell_type": "markdown",
   "metadata": {},
   "source": [
    "### Data for +/-Filter +Modelocking\n"
   ]
  },
  {
   "cell_type": "markdown",
   "metadata": {},
   "source": [
    "With filter:\n",
    "current = 211.7 mA\n",
    "power = 0.69 uW\n",
    "\n",
    "without filter:\n",
    "current = 211.7 mA\n",
    "power = 2.47 mW"
   ]
  },
  {
   "cell_type": "markdown",
   "metadata": {},
   "source": [
    "Checked EXFO meter as well while modelocking: average output power is 3.46 mW. Then destroying the modelocking we have 3.53 mW. But cw without tightened is 5 mW. Very odd: after redoing the 980 measurement after unscrewing everything, the EXFO power is 12.6 mW but the photodiode power is only 3 mW. That's half of what I measured before. Why?"
   ]
  },
  {
   "cell_type": "markdown",
   "metadata": {},
   "source": [
    "VERY STRANGE: I tightened and rotated the second polarization controller, and it had a huge effect on the amount of 980 in the output. I could reduce it to 2 mW, and make it as high as 8.8 mW! Is this a potential safety concern? When I tighten the first controller as well, the 980 decreases. When only the first is tightened, rotating affects the 980, but not as much, only 5 mW max. I don't understand this effect."
   ]
  },
  {
   "cell_type": "markdown",
   "metadata": {},
   "source": [
    "Now it's time to continue with autocorrelation."
   ]
  },
  {
   "cell_type": "markdown",
   "metadata": {},
   "source": [
    "## 2018-02-20\n",
    "\n",
    "After emailing Prof. Bailey and Larry about the beamsplitter cube and not hearing back, I came in this morning and talked to Phil. He said if it's $150 there's no problem ordering a new one, so we did that.\n",
    "\n",
    "In the meantime I'm trying alignment with this cube for practice, and to confirm all the various parts are working.\n",
    "\n",
    "I turned the wave generator for the speaker on, but no result. The speaker is not moving. So I replaced the generator output with the scope probe, and confirmed that the signal is there and oscillating (but very slightly), compared to the DC offset. When I adjust the DC offset there is some sound on the speaker! But scratches basically. Perhaps the oscillation is too small to be seen? But I can't hear any vibration. Best test is to see if anything shows up on the photodiode? \n",
    "\n",
    "After turning off the laser and putting my ear close, I can actually hear some buzzing, so it is working.\n",
    "\n",
    "Moved the beamsplitter to get the beam hitting the centre of the retroreflector. Then repositioned the photodiode. Then adjusted the mirror so the beams hit the same spot. Now the photodiode signal on the scope is -28 mV with quite a bit of noise, and drops to -16 mV when I block the retroreflector, and drops to -19 mV when I block the mirror. This doesn't look like a squared signal yet. When I block both arms the signal is -10 mV, so that's the noise."
   ]
  },
  {
   "cell_type": "markdown",
   "metadata": {},
   "source": [
    "Note that the laser is not modelocked currently, so I'm seeing 980nm light. But the signal from the speaker is clearly showing up in the photodiode. Changing the path length shouldn't have an effect with cw light though?"
   ]
  },
  {
   "cell_type": "markdown",
   "metadata": {},
   "source": [
    "Tested this by blocking the beam while keeping the speaker on, and the same waveform showed up without the DC offset. So the speaker is influencing the photodiode by noise?"
   ]
  },
  {
   "cell_type": "markdown",
   "metadata": {},
   "source": [
    "Now that the beam is showing up, we want to modelock the laser."
   ]
  },
  {
   "cell_type": "markdown",
   "metadata": {},
   "source": [
    "I modelocked the laser, but now there is no signal showing up from photodiode. The light on the IR card is also much dimmer, but it's still there. While the mirror beam is visible, the retroreflector beam disperses to the point of invisibility over distance. I think that's because hitting the centre of the retroreflector destroys collimation."
   ]
  },
  {
   "cell_type": "markdown",
   "metadata": {},
   "source": [
    "The lack of signal could also be because the pulses are being destroyed by the beamsplitter, so they aren't showing up on the photodiode?"
   ]
  },
  {
   "cell_type": "markdown",
   "metadata": {},
   "source": [
    "I'm also working at a lower power level: 300 mA vs 650 mA."
   ]
  },
  {
   "cell_type": "markdown",
   "metadata": {},
   "source": [
    "I'm an idiot. The photodiode was off."
   ]
  },
  {
   "cell_type": "markdown",
   "metadata": {},
   "source": [
    "And instantly I have a -980 mV signal, with absolutely no other adjustment. -Sigh."
   ]
  },
  {
   "cell_type": "markdown",
   "metadata": {},
   "source": [
    "Now covering the mirror gives -537 mV, and covering the retroreflector gives -532 mV. So the sums are still adding linearly."
   ]
  },
  {
   "cell_type": "markdown",
   "metadata": {},
   "source": [
    "After turning the speaker on, I see a small signal of 50 mV peak to peak, a sinusoid. When I increased the frequency the sinusoid disappeared and a smaller odd signal replaced it (video insert)."
   ]
  },
  {
   "cell_type": "markdown",
   "metadata": {},
   "source": [
    "This signal is the same when I block the beam, so it should be ignored."
   ]
  },
  {
   "cell_type": "markdown",
   "metadata": {},
   "source": [
    "The same goes for that sinusoid before, they should both be ignored."
   ]
  },
  {
   "cell_type": "markdown",
   "metadata": {},
   "source": [
    "Following the instructions, blocked the mirror and maximized the signal from retroreflector to -520 mV.\n",
    "After re-overlapping the beams, it's -1.02 V. The blocked retroreflector and maximized the mirror to -820 mV.\n",
    "Now the signal of both is -1.31 V. "
   ]
  },
  {
   "cell_type": "markdown",
   "metadata": {},
   "source": [
    "Assuming that the synch pulse is the second cable coming out of the generator, I'm triggering the scope using that."
   ]
  },
  {
   "cell_type": "markdown",
   "metadata": {},
   "source": [
    "When I zoom into the scope like crazy, I'm seeing a wavy noisy signal, but there's not much meaningful there.\n",
    "<img width=\"500\" height=\"250\" src=\"IMG_0289.jpg\">\n"
   ]
  },
  {
   "cell_type": "markdown",
   "metadata": {},
   "source": [
    "I don't know if this is because the speaker is not making any difference? I blocked the retroreflector and looked, and the detailed signal was the same. So this is just noise from the speaker. The real signal should be large, as it's the two photon effect."
   ]
  },
  {
   "cell_type": "markdown",
   "metadata": {},
   "source": [
    "The problem is that I don't have squared signal."
   ]
  },
  {
   "cell_type": "markdown",
   "metadata": {},
   "source": [
    "So the beams are not overlapping. Prof says it could be in space or time. They are not parallel, that's the problem. It's difficult to get the beams hitting the same spot in the cube by hand. I can't really do it by eye."
   ]
  },
  {
   "cell_type": "markdown",
   "metadata": {},
   "source": [
    "I think the best approach is to find another way to measure that. I'll restart. Remove the photodiode, and measure parallel-ness by checking if the beams are together both close, and far away. Use the 1550 source amplified for this, as the spots will be bright far away."
   ]
  },
  {
   "cell_type": "markdown",
   "metadata": {},
   "source": [
    "Then you can be sure they are parallel, secure the beamsplitter, and just place the photodiode in the path of the beam."
   ]
  },
  {
   "cell_type": "markdown",
   "metadata": {},
   "source": [
    "After more struggling, I found the beam is not level somehow. It is when it comes in, and into and back out of the retroreflector is level, but somehow the flat mirror doesn't reflect it level."
   ]
  },
  {
   "cell_type": "markdown",
   "metadata": {},
   "source": [
    "I think the solution is to restart as before, but from the beginning, as measuring stuff like level-ness requires open space."
   ]
  },
  {
   "cell_type": "markdown",
   "metadata": {},
   "source": [
    "## 2018-02-21\n",
    "\n",
    "Today:\n",
    "- Restart a/c alignment\n",
    "- Get some signal"
   ]
  },
  {
   "cell_type": "markdown",
   "metadata": {},
   "source": [
    "I'm starting by using the 1550nm source amplified, so it will be easy to see.\n",
    "\n",
    "So the source is so weak the max amplification is 2.5 mW. Then I'll use the cw laser amplified, if necessary."
   ]
  },
  {
   "cell_type": "markdown",
   "metadata": {},
   "source": [
    "Checked the level of the beam out of the collimation lens: as expected, it isn't level. Close it's 11 cm height, and far it's 10.7 cm. I'll compensate using the first mirror. Now the beam appears level. Now turning the beam to hit the second mirror. Turning the second mirror to shoot far away so I can check the level. After leveling, I put the beam splitter, ensuring the beam goes through the center. Then I can adjust the angle by looking at the location of the beam on the second mirror, ensuring that it is the same as before the splitter. Then I level the splitter by looking at the long range bounce, ensuring it is level. Then I put the retroreflector in place, looking at its bounce back for the speckled pattern to make sure I hit the centre. Then I level the bounce back, level the mirror again, and check if the beams are parallel. A slight horizontal adjustment was needed on the mirror. Now the beams are parallel."
   ]
  },
  {
   "cell_type": "markdown",
   "metadata": {},
   "source": [
    "Found that a very good way of making them parallel is adjusting the first mirror, at least in this case."
   ]
  },
  {
   "cell_type": "markdown",
   "metadata": {},
   "source": [
    "Modelocked the laser. Now to test diode. After positioning the photodiode, we have -330 mV of signal. It is the sum of the blocked paths, so I need to make the pulses overlap is space and time. Followed the first set of instructions. Signal about -344 mV. I'm modelocking at 430 mA, so why is the signal so much smaller than last time? Specifically, it's similar to last time before I got the mirror signal to jump by a huge amount to 800 mV.\n",
    "\n",
    "Then scanned through path length, but couldn't find any extra jump."
   ]
  },
  {
   "cell_type": "markdown",
   "metadata": {},
   "source": [
    "Prof came and we redid alignment. Got to the same point as before, but the path length isn't right, need to move the retroreflector, it's out of range. After moving the retroreflector I was realigning, and Prof brought the webcam. It shows the beams really clearly, and you can adjust to bring them to the same spot, which means they are together and parallel! Very convenient."
   ]
  },
  {
   "cell_type": "markdown",
   "metadata": {},
   "source": [
    "Tomorrow, I'll get the webcam and the new beamsplitter (hopefully), and align and see the overlap."
   ]
  },
  {
   "cell_type": "markdown",
   "metadata": {},
   "source": [
    "## 2018-02-23\n",
    "\n",
    "The beamsplitter is here, and it's tiny. I replaced the beamsplitter, and got the webcam from downstairs. Another way of centering the beam in the beamsplitter is holding the IR card behind it, and the looking through the cube to see where the dot is.\n",
    "\n",
    "Checked laser, and it's modelocked already? Extremely strange: the screws are not tightened, completely loose, and rotating the controllers has no effect. I left it modelocking last time, is there some kind of remainder? It's not q-switching, quite stable. \n",
    "\n",
    "<video width=\"500\" height=\"250\" controls src=\"IMG_0300.mp4\"> </video>\n",
    "\n",
    "After turning the laser off and on, it disappeared.\n",
    "\n",
    "Now I'll use the webcam to make the beams parallel."
   ]
  },
  {
   "cell_type": "markdown",
   "metadata": {},
   "source": [
    "unit cell of webcam =  5.6 um.\n",
    "\n",
    "Did it once, they are parallel, maximized signal separately, looking with card they are not parallel.\n",
    "\n",
    "Got them parallel again, looked at signal without maximizing separately, saw nothing. Got them parallel and close, looked at signal, there is something. Then scanned through time, and no reaction. So maybe focus is an issue? Altered focus, saw no change in signal, so I left it.\n",
    "\n",
    "Then did it all again, maybe beams need to be closer, but was having trouble modelocking. Prof came in, said focus isn't the issue, beams closer, beams are not level. We used webcam to make it parallel, which worked well.\n",
    "\n",
    "Then prof left, I redid beamsplitter position to make beams closer, 2 mm apart. Then parallelized using webcam. "
   ]
  },
  {
   "cell_type": "markdown",
   "metadata": {},
   "source": [
    "Then went to modelocking, which would not happen, and opened the laser to move the connectors a bit and increase the power from 5 to 9 mW. This made the laser much more responsive. Then got absolutely beautiful dirac delta pulses. But I noticed some fiber getting under the sides walls and moved it, which killed the modelocking, and spent another 30 min trying to get any modelocking in vain.\n",
    "\n",
    "When I did have modelocking, the spectrum was different than before, and more like one would expect.\n",
    "\n",
    "<img width=\"500\" height=\"250\" src=\"IMG_0301.jpg\">\n",
    "\n",
    "But note that in the 77-fs pulse generation paper by Tamura et al. the spectrum was more like my earlier one:\n",
    "\n",
    "<img width=\"500\" height=\"250\" src=\"tamura.png\">"
   ]
  },
  {
   "cell_type": "code",
   "execution_count": null,
   "metadata": {},
   "outputs": [],
   "source": []
  }
 ],
 "metadata": {
  "kernelspec": {
   "display_name": "Python 3",
   "language": "python",
   "name": "python3"
  },
  "language_info": {
   "codemirror_mode": {
    "name": "ipython",
    "version": 3
   },
   "file_extension": ".py",
   "mimetype": "text/x-python",
   "name": "python",
   "nbconvert_exporter": "python",
   "pygments_lexer": "ipython3",
   "version": "3.5.4"
  }
 },
 "nbformat": 4,
 "nbformat_minor": 2
}
